{
 "cells": [
  {
   "cell_type": "code",
   "execution_count": 1,
   "metadata": {},
   "outputs": [
    {
     "name": "stdout",
     "output_type": "stream",
     "text": [
      "Using device: cuda\n"
     ]
    }
   ],
   "source": [
    "%load_ext autoreload\n",
    "%autoreload 2\n",
    "%matplotlib inline\n",
    "\n",
    "import torch\n",
    "import torchvision\n",
    "import PIL\n",
    "from matplotlib import pyplot as plt\n",
    "\n",
    "import utils\n",
    "import datasets\n",
    "from models import SRCNN\n",
    "\n",
    "device = torch.device(\"cuda\" if torch.cuda.is_available() else \"cpu\")\n",
    "print(f\"Using device: {device}\")"
   ]
  },
  {
   "cell_type": "code",
   "execution_count": 2,
   "metadata": {},
   "outputs": [],
   "source": [
    "div2k = datasets.Div2K(32, 2)\n",
    "# lr, hr = div2k[0]\n",
    "# print(lr.shape)\n",
    "# utils.showImages([lr, hr])\n"
   ]
  },
  {
   "cell_type": "code",
   "execution_count": 3,
   "metadata": {},
   "outputs": [],
   "source": [
    "dataloader = torch.utils.data.DataLoader(div2k, batch_size=16, num_workers=4)\n",
    "\n",
    "model = SRCNN()"
   ]
  },
  {
   "cell_type": "code",
   "execution_count": 7,
   "metadata": {},
   "outputs": [
    {
     "name": "stdout",
     "output_type": "stream",
     "text": [
      "torch.Size([16, 3, 32, 32])\n",
      "torch.Size([16, 3, 64, 64])\n",
      "torch.Size([16, 3, 32, 32])\n",
      "torch.Size([16, 3, 32, 32])\n",
      "torch.Size([16, 3, 64, 64])\n",
      "torch.Size([16, 3, 32, 32])\n",
      "torch.Size([16, 3, 32, 32])\n",
      "torch.Size([16, 3, 64, 64])\n",
      "torch.Size([16, 3, 32, 32])\n",
      "torch.Size([16, 3, 32, 32])\n",
      "torch.Size([16, 3, 64, 64])\n",
      "torch.Size([16, 3, 32, 32])\n",
      "torch.Size([16, 3, 32, 32])\n",
      "torch.Size([16, 3, 64, 64])\n",
      "torch.Size([16, 3, 32, 32])\n"
     ]
    }
   ],
   "source": [
    "for i, batch in enumerate(dataloader):\n",
    "    lr, hr = batch\n",
    "    if i > 4:\n",
    "        break\n",
    "    with torch.no_grad():\n",
    "        print(lr.shape)\n",
    "        print(hr.shape)\n",
    "        print(model(lr).shape)"
   ]
  },
  {
   "cell_type": "code",
   "execution_count": null,
   "metadata": {},
   "outputs": [],
   "source": []
  }
 ],
 "metadata": {
  "kernelspec": {
   "display_name": "Python 3.7.8 64-bit ('Research': conda)",
   "metadata": {
    "interpreter": {
     "hash": "eb3e5c4bc8f4ea73d7d05b12005235c8ac03b80f807be5eec2bc98bc6e901e60"
    }
   },
   "name": "python3"
  },
  "language_info": {
   "codemirror_mode": {
    "name": "ipython",
    "version": 3
   },
   "file_extension": ".py",
   "mimetype": "text/x-python",
   "name": "python",
   "nbconvert_exporter": "python",
   "pygments_lexer": "ipython3",
   "version": "3.7.8"
  },
  "orig_nbformat": 2
 },
 "nbformat": 4,
 "nbformat_minor": 2
}